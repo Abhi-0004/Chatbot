{
  "cells": [
    {
      "cell_type": "markdown",
      "metadata": {
        "id": "view-in-github",
        "colab_type": "text"
      },
      "source": [
        "<a href=\"https://colab.research.google.com/github/Abhi-0004/Chatbot/blob/main/Heart_Attack_chatbot.ipynb\" target=\"_parent\"><img src=\"https://colab.research.google.com/assets/colab-badge.svg\" alt=\"Open In Colab\"/></a>"
      ]
    },
    {
      "cell_type": "code",
      "execution_count": null,
      "metadata": {
        "colab": {
          "background_save": true,
          "base_uri": "https://localhost:8080/"
        },
        "id": "nQzerfD78mMl",
        "outputId": "59c4394e-6d4c-4740-c830-edbb62c3cff3"
      },
      "outputs": [
        {
          "name": "stdout",
          "output_type": "stream",
          "text": [
            "Accuracy: 0.96\n",
            "Welcome to the Heart Attack Predictor Chatbot!\n",
            "\n",
            "Hi!!!! x, are you ready to predict your chance of experiecning a heart attack🙂:\n",
            "\n",
            "--- Let's Start Prediction!!!! ---\n",
            "\n",
            "Hey x following are the chest Pain Types:\n",
            "1: Typical angina (chest pain related to the heart caused by reduced blood flow)\n",
            "2: Atypical angina (chest pain not clearly related to the heart)\n",
            "3: Non-anginal pain (chest pain that is not related to the heart)\n",
            "4: Asymptomatic (no chest pain)😉\n"
          ]
        }
      ],
      "source": [
        "import pandas as pd\n",
        "from sklearn.model_selection import train_test_split\n",
        "from sklearn.ensemble import RandomForestClassifier\n",
        "from sklearn.metrics import accuracy_score\n",
        "\n",
        "# Load the dataset\n",
        "data = pd.read_csv('heart_attack_dataset.csv')\n",
        "\n",
        "# Separate the features (X) and the target variable (y)\n",
        "X = data.drop('HeartAttack', axis=1)\n",
        "y = data['HeartAttack']\n",
        "\n",
        "# Split the dataset into training and testing sets\n",
        "X_train, X_test, y_train, y_test = train_test_split(X, y, test_size=0.2, random_state=42)\n",
        "\n",
        "# Initialize the Random Forest classifier\n",
        "clf = RandomForestClassifier()\n",
        "\n",
        "# Train the model\n",
        "clf.fit(X_train, y_train)\n",
        "\n",
        "# Calculate accuracy\n",
        "y_pred = clf.predict(X_test)\n",
        "accuracy = accuracy_score(y_test, y_pred)\n",
        "print(f\"Accuracy: {accuracy}\")\n",
        "\n",
        "# Greet the user and ask for their name\n",
        "print(\"Welcome to the Heart Attack Predictor Chatbot!\")\n",
        "name = input(\"\\nMay I know your name? \")\n",
        "print(f\"\\nHi!!!! {name}, are you ready to predict your chance of experiecning a heart attack🙂:\")\n",
        "opinion=input(\"yes👍/no👎:\")\n",
        "\n",
        "if(opinion=='yes'):\n",
        "\n",
        "  # Variable to control the prediction loop\n",
        "  predict_again = True\n",
        "\n",
        "  while predict_again:\n",
        "      print(\"\\n--- Let's Start Prediction!!!! ---\")\n",
        "\n",
        "      # Ask for user input\n",
        "      age = int(input(\"Please enter your age: \"))\n",
        "      gender = int(input(f\"\\n{name} Please enter your gender (0 for female🚺, 1 for male🚹): \"))\n",
        "      print(f\"\\nHey {name} following are the chest Pain Types:\")\n",
        "      print(\"1: Typical angina (chest pain related to the heart caused by reduced blood flow)\")\n",
        "      print(\"2: Atypical angina (chest pain not clearly related to the heart)\")\n",
        "      print(\"3: Non-anginal pain (chest pain that is not related to the heart)\")\n",
        "      print(\"4: Asymptomatic (no chest pain)😉\")\n",
        "      chest_pain_type = int(input(\"\\nPlease enter your chest pain type (1-4): \"))\n",
        "      resting_bp = int(input(f\"\\nPlease enter your resting blood pressure {name}(systolic): \"))\n",
        "      cholesterol = int(input(f\"\\n{name} Please do enter your cholesterol level: \"))\n",
        "      print(f\"\\nHey {name} following are the Fasting Blood Sugar:\")\n",
        "      print(\"0: Below 120 mg/dL (normal)\")\n",
        "      print(\"1: Equal to or greater than 120 mg/dL (high/abnormal)\")\n",
        "      fasting_blood_sugar = int(input(\"\\nPlease enter your fasting blood sugar (0 or 1): \"))\n",
        "      print(f\"\\nHey {name} following are the Resting ECG:\")\n",
        "      print(\"0: Normal\")\n",
        "      print(\"1: Abnormality\")\n",
        "      print(\"2: Possible ventricular hypertrophy\")\n",
        "      resting_ecg = int(input(\"\\nPlease enter your resting ECG result (0-2): \"))\n",
        "      max_heart_rate = int(input(\"\\nPlease enter your maximum heart rate achieved💟: \"))\n",
        "      print(\"\\nTypes of Exercise-induced Angina are as follows🏃‍♂️:\")\n",
        "      print(\"0: No exercise-induced angina\")\n",
        "      print(\"1: Exercise-induced angina\")\n",
        "      exercise_angina = int(input(f\"\\nPlease enter if you experienced exercise-induced angina {name}(0 or 1): \"))\n",
        "\n",
        "      # Create a new dataframe for the user input\n",
        "      user_input = pd.DataFrame([[age, gender, chest_pain_type, resting_bp, cholesterol, fasting_blood_sugar, resting_ecg, max_heart_rate, exercise_angina]],\n",
        "                                columns=X.columns)\n",
        "\n",
        "      # Predict the heart attack for the user input\n",
        "      prediction = clf.predict(user_input)\n",
        "      probability = clf.predict_proba(user_input)\n",
        "\n",
        "      # Provide the output\n",
        "      print(\"\\n--------------------------------------------------------\")\n",
        "      if prediction[0] == 1:\n",
        "          print(f\"Dear {name}, you are prone to a heart attack.\")\n",
        "          print(f\"Chance of experiencing a Heart Attack: {probability[0][1] * 100:.2f}%\")\n",
        "      else:\n",
        "          print(f\"Dear {name}, you are not prone to a heart attack.😊\")\n",
        "      print(\"--------------------------------------------------------\")\n",
        "\n",
        "      # Ask if the user wants to predict again\n",
        "      response = input(\"Would you like to predict one more time? (yes/no): \")\n",
        "      if response.lower() != \"yes\":\n",
        "          predict_again = False\n",
        "          if prediction[0]==0:\n",
        "        # Farewell message\n",
        "            print(f\"\\nThank you for using the Heart Attack Predictor Chatbot, {name}!!!! Take care!!!!\\n\",\"                  Have a Good Day 🤗\")\n",
        "          else:\n",
        "            print(f\"{name} I insist you to meet a cardio specialist🧑‍⚕️!!! Take care !!!!\")\n",
        "\n",
        "\n",
        "else:\n",
        "  print(f\"\\nOk Thank you {name}!!! Take care!!!!\\n\",\"                           Have a Good Day 🤗\")\n"
      ]
    },
    {
      "cell_type": "code",
      "execution_count": null,
      "metadata": {
        "id": "qKEPKEhsIOgv"
      },
      "outputs": [],
      "source": []
    }
  ],
  "metadata": {
    "colab": {
      "provenance": [],
      "authorship_tag": "ABX9TyPFSeJYNxKgYXNDmG8R5G9G",
      "include_colab_link": true
    },
    "kernelspec": {
      "display_name": "Python 3",
      "name": "python3"
    },
    "language_info": {
      "name": "python"
    }
  },
  "nbformat": 4,
  "nbformat_minor": 0
}